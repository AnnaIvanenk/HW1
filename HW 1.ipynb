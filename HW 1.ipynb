{
  "nbformat": 4,
  "nbformat_minor": 0,
  "metadata": {
    "colab": {
      "provenance": []
    },
    "kernelspec": {
      "name": "python3",
      "display_name": "Python 3"
    },
    "language_info": {
      "name": "python"
    }
  },
  "cells": [
    {
      "cell_type": "markdown",
      "source": [
        "## Задание 1"
      ],
      "metadata": {
        "id": "AJiyPSN8sEjF"
      }
    },
    {
      "cell_type": "markdown",
      "source": [
        "На складе лежат разные фрукты в разном количестве. Нужно написать функцию, которая на вход принимает любое количество названий фруктов и их количество, а возвращает общее количество фруктов на складе"
      ],
      "metadata": {
        "id": "Zm6EYKGhsF7t"
      }
    },
    {
      "cell_type": "code",
      "source": [
        "fruits = {'apple': 5, 'orange': 4, 'pineapple': 3, 'grape': 8, 'kiwi': 6}"
      ],
      "metadata": {
        "id": "qY34pdUirhFW"
      },
      "execution_count": 1,
      "outputs": []
    },
    {
      "cell_type": "code",
      "source": [
        "def get_count(**kwargs):\n",
        "    return sum(kwargs.values())"
      ],
      "metadata": {
        "id": "wB-9N_RxsPI8"
      },
      "execution_count": 2,
      "outputs": []
    },
    {
      "cell_type": "code",
      "source": [
        "get_count(**fruits)"
      ],
      "metadata": {
        "colab": {
          "base_uri": "https://localhost:8080/"
        },
        "id": "RRiLLzt9sX19",
        "outputId": "0f013cfb-f31b-4638-9da1-60c1f00e2669"
      },
      "execution_count": 3,
      "outputs": [
        {
          "output_type": "execute_result",
          "data": {
            "text/plain": [
              "26"
            ]
          },
          "metadata": {},
          "execution_count": 3
        }
      ]
    },
    {
      "cell_type": "markdown",
      "source": [
        "## Задание 2"
      ],
      "metadata": {
        "id": "F2EN96F_sj7g"
      }
    },
    {
      "cell_type": "markdown",
      "source": [
        "Дан список с затратами на рекламу. Но в данных есть ошибки, некоторые затраты имеют отрицательную величину. Удалите такие значения из списка и посчитайте суммарные затраты. Используйте list comprehensions"
      ],
      "metadata": {
        "id": "jueX_OnxsqMK"
      }
    },
    {
      "cell_type": "code",
      "source": [
        "my_list = [100, 125, -90, 345, 655, -1, 0, 200]"
      ],
      "metadata": {
        "id": "2GaPYpYYsof5"
      },
      "execution_count": 4,
      "outputs": []
    },
    {
      "cell_type": "code",
      "source": [
        "sum([i for i in my_list if i > 0])"
      ],
      "metadata": {
        "colab": {
          "base_uri": "https://localhost:8080/"
        },
        "id": "BY9O1DNWs14u",
        "outputId": "179203c1-8744-4af7-909f-56f3072e3c92"
      },
      "execution_count": 5,
      "outputs": [
        {
          "output_type": "execute_result",
          "data": {
            "text/plain": [
              "1425"
            ]
          },
          "metadata": {},
          "execution_count": 5
        }
      ]
    },
    {
      "cell_type": "markdown",
      "source": [
        "## Задание 3"
      ],
      "metadata": {
        "id": "U4BV1T--s-ni"
      }
    },
    {
      "cell_type": "markdown",
      "source": [
        "### Задание 3.1"
      ],
      "metadata": {
        "id": "55zCNuButGlp"
      }
    },
    {
      "cell_type": "markdown",
      "source": [
        "Даны два списка: дата покупки\n",
        "суммы покупок по датам.\n",
        "Найдите, какая выручка у компании в ноябре Используйте list comprehensions\n"
      ],
      "metadata": {
        "id": "qpyov7xktM4h"
      }
    },
    {
      "cell_type": "code",
      "source": [
        "b_dates = ['2021-09-14', '2021-12-15', '2021-09-08', '2021-12-05', '2021-10-09', '2021-09-30', '2021-12-22', '2021-11-29', \n",
        "          '2021-12-24', '2021-11-26', '2021-10-27', '2021-12-18', '2021-11-09', '2021-11-23', '2021-09-27', '2021-10-02', \n",
        "          '2021-12-27', '2021-09-20', '2021-12-13', '2021-11-01', '2021-11-09', '2021-12-06', '2021-12-08', '2021-10-09', \n",
        "          '2021-10-31', '2021-09-30', '2021-11-09', '2021-12-13', '2021-10-26', '2021-12-09']\n",
        "\n",
        "b_costs = [1270, 8413, 9028, 3703, 5739, 4095, 295, 4944, 5723, 3701, 4471, 651, 7037, 4274, 6275, 4988, 6930, 2971, 6592, \n",
        "           2004, 2822, 519, 3406, 2732, 5015, 2008, 316, 6333, 5700, 2887]"
      ],
      "metadata": {
        "id": "MBZwXnFLtFC4"
      },
      "execution_count": 6,
      "outputs": []
    },
    {
      "cell_type": "code",
      "source": [
        "sum([b_costs[i] if b_dates[i][5:7] == '09' else 0 for i in range(len(b_dates))])"
      ],
      "metadata": {
        "colab": {
          "base_uri": "https://localhost:8080/"
        },
        "id": "jKh1BRbQtjXB",
        "outputId": "4a6c17fd-4b9f-49d9-b6dc-b87a589393da"
      },
      "execution_count": 7,
      "outputs": [
        {
          "output_type": "execute_result",
          "data": {
            "text/plain": [
              "25647"
            ]
          },
          "metadata": {},
          "execution_count": 7
        }
      ]
    },
    {
      "cell_type": "markdown",
      "source": [
        "## Задание 3.2\n",
        "\n",
        "Найдите выручку компании в зависимости от месяца Для этого напишите функцию, которая на вход принимает список с датами и список с выручкой, а на выходе словарь, где ключи - это месяцы, а значения - это выручка."
      ],
      "metadata": {
        "id": "cJLXGSDut3Qh"
      }
    },
    {
      "cell_type": "code",
      "source": [
        "def create_dict(list1: list, list2: list) -> dict:\n",
        "    my_dict = {}\n",
        "    for i in range(len(list1)):\n",
        "        if list1[i][5:7] not in my_dict:\n",
        "            my_dict[list1[i][5:7]] = list2[i]\n",
        "        else:\n",
        "            my_dict[list1[i][5:7]] += list2[i]\n",
        "    return dict(sorted(my_dict.items()))\n",
        "create_dict(b_dates, b_costs)"
      ],
      "metadata": {
        "colab": {
          "base_uri": "https://localhost:8080/"
        },
        "id": "BdMNydhluDCt",
        "outputId": "b31ee986-b0aa-4d0d-fd8f-e5d74a4ab40c"
      },
      "execution_count": 8,
      "outputs": [
        {
          "output_type": "execute_result",
          "data": {
            "text/plain": [
              "{'09': 25647, '10': 28645, '11': 25098, '12': 45452}"
            ]
          },
          "metadata": {},
          "execution_count": 8
        }
      ]
    }
  ]
}